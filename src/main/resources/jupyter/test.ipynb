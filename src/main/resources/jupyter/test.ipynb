{
    "cells": [
        {
            "cell_type": "code",
            "execution_count": null,
            "metadata": {
                "init_cell": true,
                "jupyter": {
                    "outputs_hidden": true,
                    "source_hidden": true
                },
                "scrolled": false
            },
            "outputs": [],
            "source": [
                "import requests\n",
                "import json\n",
                "\n",
                "def parseResponse(resp):\n",
                "    if not resp.ok:\n",
                "        print(\"request failed:\" + resp.text) \n",
                "    return resp.json()\n",
                "\n",
                "def parseMutationResponse(resp):\n",
                "    return list(map(lambda x: x[\"entityId\"], parseResponse(resp))) \n",
                "\n"
            ]
        },
        {
            "cell_type": "code",
            "execution_count": null,
            "metadata": {
                "init_cell": true,
                "jupyter": {
                    "outputs_hidden": true,
                    "source_hidden": true
                },
                "scrolled": false
            },
            "outputs": [],
            "source": [
                "def createRandomProductRequest():\n    return parseResponse(requests.get(\"http://localhost:8080/test/generator/Product/create\"))\n\ndef createProduct(request):\n    return parseMutationResponse(requests.post(\"http://localhost:8080/test/Product\", json=request))\n\ndef createRandomProduct():\n    return createProduct(createRandomProductRequest())\n\n\ndef getRandomProductRequest():\n    return parseResponse(requests.get(\"http://localhost:8080/test/generator/Product/get\"))\n\ndef getProduct(request):\n    return parseResponse(requests.get(\"http://localhost:8080/test/Product\", json=request))\n\ndef getRandomProduct():\n    return getProduct(getRandomProductRequest())\n\n\ndef updateRandomProductRequest():\n    return parseResponse(requests.get(\"http://localhost:8080/test/generator/Product/update\"))\n\ndef updateProduct(request):\n    return parseMutationResponse(requests.put(\"http://localhost:8080/test/Product\", json=request))\n\ndef updateRandomProduct():\n    return updateProduct(updateRandomProductRequest())\n\n\ndef deleteRandomProductRequest():\n    return parseResponse(requests.get(\"http://localhost:8080/test/generator/Product/delete\"))\n\ndef deleteProduct(request):\n    return parseMutationResponse(requests.delete(\"http://localhost:8080/test/Product\", json=request))\n\ndef deleteRandomProduct():\n    return deleteProduct(deleteRandomProductRequest())\n\n\ndef createRandomCustomerRequest():\n    return parseResponse(requests.get(\"http://localhost:8080/test/generator/Customer/create\"))\n\ndef createCustomer(request):\n    return parseMutationResponse(requests.post(\"http://localhost:8080/test/Customer\", json=request))\n\ndef createRandomCustomer():\n    return createCustomer(createRandomCustomerRequest())\n\n\ndef getRandomCustomerRequest():\n    return parseResponse(requests.get(\"http://localhost:8080/test/generator/Customer/get\"))\n\ndef getCustomer(request):\n    return parseResponse(requests.get(\"http://localhost:8080/test/Customer\", json=request))\n\ndef getRandomCustomer():\n    return getCustomer(getRandomCustomerRequest())\n\n\ndef updateRandomCustomerRequest():\n    return parseResponse(requests.get(\"http://localhost:8080/test/generator/Customer/update\"))\n\ndef updateCustomer(request):\n    return parseMutationResponse(requests.put(\"http://localhost:8080/test/Customer\", json=request))\n\ndef updateRandomCustomer():\n    return updateCustomer(updateRandomCustomerRequest())\n\n\ndef deleteRandomCustomerRequest():\n    return parseResponse(requests.get(\"http://localhost:8080/test/generator/Customer/delete\"))\n\ndef deleteCustomer(request):\n    return parseMutationResponse(requests.delete(\"http://localhost:8080/test/Customer\", json=request))\n\ndef deleteRandomCustomer():\n    return deleteCustomer(deleteRandomCustomerRequest())\n\n\ndef createRandomOrderRequest():\n    return parseResponse(requests.get(\"http://localhost:8080/test/generator/Order/create\"))\n\ndef createOrder(request):\n    return parseMutationResponse(requests.post(\"http://localhost:8080/test/Order\", json=request))\n\ndef createRandomOrder():\n    return createOrder(createRandomOrderRequest())\n\n\ndef getRandomOrderRequest():\n    return parseResponse(requests.get(\"http://localhost:8080/test/generator/Order/get\"))\n\ndef getOrder(request):\n    return parseResponse(requests.get(\"http://localhost:8080/test/Order\", json=request))\n\ndef getRandomOrder():\n    return getOrder(getRandomOrderRequest())\n\n\ndef updateRandomOrderRequest():\n    return parseResponse(requests.get(\"http://localhost:8080/test/generator/Order/update\"))\n\ndef updateOrder(request):\n    return parseMutationResponse(requests.put(\"http://localhost:8080/test/Order\", json=request))\n\ndef updateRandomOrder():\n    return updateOrder(updateRandomOrderRequest())\n\n\ndef deleteRandomOrderRequest():\n    return parseResponse(requests.get(\"http://localhost:8080/test/generator/Order/delete\"))\n\ndef deleteOrder(request):\n    return parseMutationResponse(requests.delete(\"http://localhost:8080/test/Order\", json=request))\n\ndef deleteRandomOrder():\n    return deleteOrder(deleteRandomOrderRequest())\n\n\ndef createRandomAddressRequest():\n    return parseResponse(requests.get(\"http://localhost:8080/test/generator/Address/create\"))\n\ndef createAddress(request):\n    return parseMutationResponse(requests.post(\"http://localhost:8080/test/Address\", json=request))\n\ndef createRandomAddress():\n    return createAddress(createRandomAddressRequest())\n\n\ndef getRandomAddressRequest():\n    return parseResponse(requests.get(\"http://localhost:8080/test/generator/Address/get\"))\n\ndef getAddress(request):\n    return parseResponse(requests.get(\"http://localhost:8080/test/Address\", json=request))\n\ndef getRandomAddress():\n    return getAddress(getRandomAddressRequest())\n\n\ndef updateRandomAddressRequest():\n    return parseResponse(requests.get(\"http://localhost:8080/test/generator/Address/update\"))\n\ndef updateAddress(request):\n    return parseMutationResponse(requests.put(\"http://localhost:8080/test/Address\", json=request))\n\ndef updateRandomAddress():\n    return updateAddress(updateRandomAddressRequest())\n\n\ndef deleteRandomAddressRequest():\n    return parseResponse(requests.get(\"http://localhost:8080/test/generator/Address/delete\"))\n\ndef deleteAddress(request):\n    return parseMutationResponse(requests.delete(\"http://localhost:8080/test/Address\", json=request))\n\ndef deleteRandomAddress():\n    return deleteAddress(deleteRandomAddressRequest())\n\n"
            ]
        },
        {
            "cell_type": "markdown",
            "metadata": {},
            "source": [
                "\n## Instructions\nFirst click <img src=\"https://raw.githubusercontent.com/jupyterlab/jupyterlab/master/packages/ui-components/style/icons/toolbar/fast-forward.svg?sanitize=true\"> (and then \"Restart\" if prompted) to run the entire notebook demo.\nThen try changing a cell and re-running it with <img src=\"https://raw.githubusercontent.com/jupyterlab/jupyterlab/master/packages/ui-components/style/icons/toolbar/run.svg?sanitize=true\">\nOr add new cells with <img src=\"https://raw.githubusercontent.com/jupyterlab/jupyterlab/master/packages/ui-components/style/icons/toolbar/add.svg?sanitize=true\">\n\nIf you don't want your changes to the notebook to be lost next time you update your schema, make a copy with File > Save Notebook As\n"
            ]
        },
        {
            "cell_type": "markdown",
            "metadata": {},
            "source": [
                "### Create some instances of Order and Address"
            ]
        },
        {
            "cell_type": "code",
            "execution_count": null,
            "metadata": {
                "scrolled": false
            },
            "outputs": [],
            "source": [
                "Order_response = requests.post(\"http://localhost:8080/test/Order\", json=[ {\n  \"tax\" : 1410820763,\n  \"total\" : -1368874943,\n  \"id\" : \"4066b46e-eeed-48c5-9e19-267bf92829fa\",\n  \"subtotal\" : 279390601,\n  \"time\" : 684121276\n}, {\n  \"tax\" : -848076964,\n  \"total\" : -1189813527,\n  \"id\" : \"0babcab9-2042-4be0-ac48-b1b1d00d48f8\",\n  \"subtotal\" : -1625634086,\n  \"time\" : -588274858\n}, {\n  \"tax\" : 1346885666,\n  \"total\" : -1057158580,\n  \"id\" : \"e0dcbce3-f118-4212-8bc1-eb1d48bbd2c3\",\n  \"subtotal\" : -1370352970,\n  \"time\" : -352911267\n} ])\nOrder_ids = parseMutationResponse(Order_response)\nprint(\"Order ids:\" + str(Order_ids))\n\nAddress_response = requests.post(\"http://localhost:8080/test/Address\", json=[ {\n  \"zipCode\" : \"hR7qWuLFDT\",\n  \"street\" : \"evxJ8G4hYP\"\n}, {\n  \"zipCode\" : \"hR7qWuLFDT\",\n  \"street\" : \"DvD55iVZf5\"\n}, {\n  \"zipCode\" : \"hR7qWuLFDT\",\n  \"street\" : \"QlXNQWG7jU\"\n} ])\nAddress_ids = parseMutationResponse(Address_response)\nprint(\"Address ids:\" + str(Address_ids))\n"
            ]
        },
        {
            "cell_type": "markdown",
            "metadata": {},
            "source": [
                "### Link some Order entities to some Address entities"
            ]
        },
        {
            "cell_type": "code",
            "execution_count": null,
            "metadata": {
                "scrolled": false
            },
            "outputs": [],
            "source": [
                "for i in range(3):\n  requests.put(\"http://localhost:8080/test/Order\", json={\n    \"-match\": [\"entityId\", \"=\", Order_ids[i]],\n    \"deliveryAddress\": { \"-link\": { \"-match\": [\"entityId\", \"=\", Address_ids[i]] } }\n  })\n"
            ]
        },
        {
            "cell_type": "markdown",
            "metadata": {},
            "source": [
                "### Get the Order entities and their related Address entities"
            ]
        },
        {
            "cell_type": "code",
            "execution_count": null,
            "metadata": {
                "scrolled": false
            },
            "outputs": [],
            "source": [
                "response = requests.get(\"http://localhost:8080/test/Order\", json={ \"-match\": [\"entityId\", \"IN\", Order_ids], \"-limit\": 3, \"deliveryAddress\": {} })\nprint(json.dumps(parseResponse(response), indent=2))\n"
            ]
        },
        {
            "cell_type": "markdown",
            "metadata": {},
            "source": [
                "### Linking first Order to all Address entities by a scalar\nNotice how all the generated Address have the same value for field zipCode"
            ]
        },
        {
            "cell_type": "code",
            "execution_count": null,
            "metadata": {
                "scrolled": false
            },
            "outputs": [],
            "source": [
                "response = requests.put(\"http://localhost:8080/test/Order\", json={\n  \"-match\": [\"entityId\", \"=\", Order_ids[0]],\n  \"deliveryAddress\": { \"-replace\": { \"-match\": [\"zipCode\", \"=\", \"hR7qWuLFDT\"] } }\n})\nprint(json.dumps(parseResponse(response), indent=2))\n"
            ]
        },
        {
            "cell_type": "markdown",
            "metadata": {},
            "source": [
                "### Query all Order entities, but limit page size to 1"
            ]
        },
        {
            "cell_type": "code",
            "execution_count": null,
            "metadata": {
                "scrolled": false
            },
            "outputs": [],
            "source": [
                "page=0\nresponse = parseResponse(requests.get(\"http://localhost:8080/test/Order\", json={ \"-match\": [\"entityId\", \"IN\", Order_ids], \"-limit\": 1, \"-continue\": True, \"deliveryAddress\": {} }))\nprint(\"Page: \" + str(page))\nprint(json.dumps(response, indent=2))\nwhile len(response) == 2:\n  page = page + 1\n  response = parseResponse(requests.get(\"http://localhost:8080/test/continue/\" + response[1][\"-continue\"]))\n  print(\"Page: \" + str(page))\n  print(json.dumps(response, indent=2))\n"
            ]
        },
        {
            "cell_type": "markdown",
            "metadata": {},
            "source": [
                "### Clean up entities created by the demo"
            ]
        },
        {
            "cell_type": "code",
            "execution_count": null,
            "metadata": {
                "scrolled": false
            },
            "outputs": [],
            "source": [
                "requests.delete(\"http://localhost:8080/test/Order\", json={ \"-match\": [\"entityId\", \"IN\", Order_ids] })\nrequests.delete(\"http://localhost:8080/test/Address\", json={ \"-match\": [\"entityId\", \"IN\", Address_ids] })\n"
            ]
        }
    ],
    "metadata": {
        "kernelspec": {
            "display_name": "Python 3",
            "language": "python",
            "name": "python3"
        },
        "language_info": {
            "codemirror_mode": {
                "name": "ipython",
                "version": 3
            },
            "file_extension": ".py",
            "mimetype": "text/x-python",
            "name": "python",
            "nbconvert_exporter": "python",
            "pygments_lexer": "ipython3",
            "version": "3.4.3"
        }
    },
    "nbformat": 4,
    "nbformat_minor": 4
}
